{
 "cells": [
  {
   "cell_type": "markdown",
   "id": "8338543c",
   "metadata": {},
   "source": [
    "# TASK 1 Description:\n",
    "# This task involves understanding the basic data\n",
    "# types in Python such as lists, dictionaries, and\n",
    "# sets.Responsibility:\n",
    "# Write a Python program to create a list, a\n",
    "# dictionary, and a set. Perform basic operations\n",
    "# like adding, removing, and modifying\n",
    "# elements."
   ]
  },
  {
   "cell_type": "code",
   "execution_count": 4,
   "id": "5c4f834a",
   "metadata": {},
   "outputs": [
    {
     "name": "stdout",
     "output_type": "stream",
     "text": [
      "List Operations:\n",
      "Initial List: [1, 2, 3, 4, 5]\n",
      "After Adding 6: [1, 2, 3, 4, 5, 6]\n",
      "After Removing 3: [1, 2, 4, 5, 6]\n",
      "After Modifying Element at Index 2: [1, 2, 10, 5, 6]\n"
     ]
    }
   ],
   "source": [
    "# List Operations\n",
    "print(\"List Operations:\")\n",
    "my_list = [1, 2, 3, 4, 5]\n",
    "print(\"Initial List:\", my_list)\n",
    "\n",
    "# Add an element to the list\n",
    "my_list.append(6)\n",
    "print(\"After Adding 6:\", my_list)\n",
    "\n",
    "# Remove an element from the list\n",
    "my_list.remove(3)\n",
    "print(\"After Removing 3:\", my_list)\n",
    "\n",
    "# Modify an element in the list\n",
    "my_list[2] = 10\n",
    "print(\"After Modifying Element at Index 2:\", my_list)\n",
    "\n",
    "\n"
   ]
  },
  {
   "cell_type": "code",
   "execution_count": 5,
   "id": "60f6c419",
   "metadata": {},
   "outputs": [
    {
     "name": "stdout",
     "output_type": "stream",
     "text": [
      "\n",
      "Set Operations:\n",
      "Initial Set: {1, 2, 3, 4, 5}\n",
      "After Adding 6: {1, 2, 3, 4, 5, 6}\n",
      "After Removing 3: {1, 2, 4, 5, 6}\n",
      "After Modifying 4 to 10: {1, 2, 5, 6, 10}\n"
     ]
    }
   ],
   "source": [
    "# Set Operations\n",
    "print(\"\\nSet Operations:\")\n",
    "my_set = {1, 2, 3, 4, 5}\n",
    "print(\"Initial Set:\", my_set)\n",
    "\n",
    "# Add an element to the set\n",
    "my_set.add(6)\n",
    "print(\"After Adding 6:\", my_set)\n",
    "\n",
    "# Remove an element from the set\n",
    "my_set.remove(3)\n",
    "print(\"After Removing 3:\", my_set)\n",
    "\n",
    "# Modify an element in the set (requires removal and addition since sets are unordered)\n",
    "my_set.remove(4)\n",
    "my_set.add(10)\n",
    "print(\"After Modifying 4 to 10:\", my_set)\n"
   ]
  },
  {
   "cell_type": "code",
   "execution_count": 6,
   "id": "a475801f",
   "metadata": {},
   "outputs": [
    {
     "name": "stdout",
     "output_type": "stream",
     "text": [
      "\n",
      "Dictionary Operations:\n",
      "Initial Dictionary: {'a': 1, 'b': 2, 'c': 3}\n",
      "After Adding {'d': 4}: {'a': 1, 'b': 2, 'c': 3, 'd': 4}\n",
      "After Removing 'b': {'a': 1, 'c': 3, 'd': 4}\n",
      "After Modifying 'c': {'a': 1, 'c': 10, 'd': 4}\n"
     ]
    }
   ],
   "source": [
    "# Dictionary Operations\n",
    "print(\"\\nDictionary Operations:\")\n",
    "my_dict = {'a': 1, 'b': 2, 'c': 3}\n",
    "print(\"Initial Dictionary:\", my_dict)\n",
    "\n",
    "# Add a key-value pair to the dictionary\n",
    "my_dict['d'] = 4\n",
    "print(\"After Adding {'d': 4}:\", my_dict)\n",
    "\n",
    "# Remove a key-value pair from the dictionary\n",
    "del my_dict['b']\n",
    "print(\"After Removing 'b':\", my_dict)\n",
    "\n",
    "# Modify a value in the dictionary\n",
    "my_dict['c'] = 10\n",
    "print(\"After Modifying 'c':\", my_dict)\n"
   ]
  },
  {
   "cell_type": "code",
   "execution_count": null,
   "id": "16750774",
   "metadata": {},
   "outputs": [],
   "source": []
  },
  {
   "cell_type": "code",
   "execution_count": null,
   "id": "c7192e01",
   "metadata": {},
   "outputs": [],
   "source": []
  }
 ],
 "metadata": {
  "kernelspec": {
   "display_name": "Python 3 (ipykernel)",
   "language": "python",
   "name": "python3"
  },
  "language_info": {
   "codemirror_mode": {
    "name": "ipython",
    "version": 3
   },
   "file_extension": ".py",
   "mimetype": "text/x-python",
   "name": "python",
   "nbconvert_exporter": "python",
   "pygments_lexer": "ipython3",
   "version": "3.9.13"
  }
 },
 "nbformat": 4,
 "nbformat_minor": 5
}
